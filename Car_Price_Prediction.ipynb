{
  "nbformat": 4,
  "nbformat_minor": 0,
  "metadata": {
    "colab": {
      "provenance": []
    },
    "kernelspec": {
      "name": "python3",
      "display_name": "Python 3"
    },
    "language_info": {
      "name": "python"
    }
  },
  "cells": [
    {
      "cell_type": "code",
      "execution_count": 2,
      "metadata": {
        "colab": {
          "base_uri": "https://localhost:8080/"
        },
        "id": "6ga3yhPOvu2N",
        "outputId": "25e49e85-c4c8-41f5-a2c7-8d2c930baf7b"
      },
      "outputs": [
        {
          "output_type": "stream",
          "name": "stdout",
          "text": [
            "Dataset Info:\n",
            "<class 'pandas.core.frame.DataFrame'>\n",
            "RangeIndex: 301 entries, 0 to 300\n",
            "Data columns (total 9 columns):\n",
            " #   Column         Non-Null Count  Dtype  \n",
            "---  ------         --------------  -----  \n",
            " 0   Car_Name       301 non-null    object \n",
            " 1   Year           301 non-null    int64  \n",
            " 2   Selling_Price  301 non-null    float64\n",
            " 3   Present_Price  301 non-null    float64\n",
            " 4   Driven_kms     301 non-null    int64  \n",
            " 5   Fuel_Type      301 non-null    object \n",
            " 6   Selling_type   301 non-null    object \n",
            " 7   Transmission   301 non-null    object \n",
            " 8   Owner          301 non-null    int64  \n",
            "dtypes: float64(2), int64(3), object(4)\n",
            "memory usage: 21.3+ KB\n",
            "None\n",
            "\n",
            "First 5 Rows:\n",
            "  Car_Name  Year  Selling_Price  Present_Price  Driven_kms Fuel_Type  \\\n",
            "0     ritz  2014           3.35           5.59       27000    Petrol   \n",
            "1      sx4  2013           4.75           9.54       43000    Diesel   \n",
            "2     ciaz  2017           7.25           9.85        6900    Petrol   \n",
            "3  wagon r  2011           2.85           4.15        5200    Petrol   \n",
            "4    swift  2014           4.60           6.87       42450    Diesel   \n",
            "\n",
            "  Selling_type Transmission  Owner  \n",
            "0       Dealer       Manual      0  \n",
            "1       Dealer       Manual      0  \n",
            "2       Dealer       Manual      0  \n",
            "3       Dealer       Manual      0  \n",
            "4       Dealer       Manual      0  \n",
            "\n",
            "Missing Values in Dataset:\n",
            "Car_Name         0\n",
            "Year             0\n",
            "Selling_Price    0\n",
            "Present_Price    0\n",
            "Driven_kms       0\n",
            "Fuel_Type        0\n",
            "Selling_type     0\n",
            "Transmission     0\n",
            "Owner            0\n",
            "dtype: int64\n"
          ]
        }
      ],
      "source": [
        "# Import required libraries\n",
        "import pandas as pd\n",
        "import numpy as np\n",
        "import matplotlib.pyplot as plt\n",
        "import seaborn as sns\n",
        "from sklearn.model_selection import train_test_split\n",
        "from sklearn.linear_model import LinearRegression\n",
        "from sklearn.ensemble import RandomForestRegressor\n",
        "from sklearn.metrics import r2_score, mean_squared_error\n",
        "from sklearn.preprocessing import LabelEncoder\n",
        "\n",
        "# Load the dataset\n",
        "file_path = \"car_data.csv\"  # Update this to the correct path if needed\n",
        "data = pd.read_csv(file_path)\n",
        "\n",
        "# Display basic information\n",
        "print(\"Dataset Info:\")\n",
        "print(data.info())\n",
        "print(\"\\nFirst 5 Rows:\")\n",
        "print(data.head())\n",
        "\n",
        "# --- Data Preprocessing ---\n",
        "# Check for missing values\n",
        "print(\"\\nMissing Values in Dataset:\")\n",
        "print(data.isnull().sum())\n",
        "\n",
        "# Create a new column for car age\n",
        "data['Car_Age'] = 2024 - data['Year']  # Assuming current year is 2024\n",
        "data.drop('Year', axis=1, inplace=True)\n",
        "\n",
        "\n"
      ]
    },
    {
      "cell_type": "code",
      "source": [
        "# Encode categorical features\n",
        "encoder = LabelEncoder()\n",
        "data['Fuel_Type'] = encoder.fit_transform(data['Fuel_Type'])  # Petrol = 2, Diesel = 1, CNG = 0\n",
        "data['Selling_Type'] = encoder.fit_transform(data['Selling_type'])  # Dealer = 0, Individual = 1\n",
        "data['Transmission'] = encoder.fit_transform(data['Transmission'])  # Manual = 1, Automatic = 0\n"
      ],
      "metadata": {
        "id": "yFcjnuhBwCUH"
      },
      "execution_count": 7,
      "outputs": []
    },
    {
      "cell_type": "code",
      "source": [
        "# Ensure column names are clean\n",
        "data.columns = data.columns.str.strip().str.replace(r'\\s+', '', regex=True)\n",
        "\n",
        "# Check column names\n",
        "print(\"Columns in dataset:\", data.columns.tolist())\n",
        "\n",
        "# Drop the column if it exists\n",
        "if 'Car_Name' in data.columns:\n",
        "    data.drop('Car_Name', axis=1, inplace=True)\n",
        "else:\n",
        "    print(\"'Car_Name' column is not found in the dataset. Double-check the dataset.\")\n",
        "\n",
        "# Standardize column names\n",
        "data.columns = data.columns.str.strip().str.lower()  # Convert all columns to lowercase\n",
        "print(data.columns.tolist())  # Verify column names"
      ],
      "metadata": {
        "colab": {
          "base_uri": "https://localhost:8080/"
        },
        "id": "6ftU0O1Gwgzi",
        "outputId": "267e0c8d-58ec-48dc-bdaf-d8bbaeefab65"
      },
      "execution_count": 11,
      "outputs": [
        {
          "output_type": "stream",
          "name": "stdout",
          "text": [
            "Columns in dataset: ['selling_price', 'present_price', 'driven_kms', 'fuel_type', 'selling_type', 'transmission', 'owner', 'car_age', 'selling_type']\n",
            "'Car_Name' column is not found in the dataset. Double-check the dataset.\n",
            "['selling_price', 'present_price', 'driven_kms', 'fuel_type', 'selling_type', 'transmission', 'owner', 'car_age', 'selling_type']\n"
          ]
        }
      ]
    },
    {
      "cell_type": "code",
      "source": [
        "data = data.loc[:, ~data.columns.duplicated()]\n",
        "print(data.columns)  # Verify unique column names\n"
      ],
      "metadata": {
        "colab": {
          "base_uri": "https://localhost:8080/"
        },
        "id": "KogbPSuPyrG1",
        "outputId": "d049deb9-db7e-4b80-fcf5-165173f736e8"
      },
      "execution_count": 13,
      "outputs": [
        {
          "output_type": "stream",
          "name": "stdout",
          "text": [
            "Index(['selling_price', 'present_price', 'driven_kms', 'fuel_type',\n",
            "       'selling_type', 'transmission', 'owner', 'car_age'],\n",
            "      dtype='object')\n"
          ]
        }
      ]
    },
    {
      "cell_type": "code",
      "source": [
        "from sklearn.preprocessing import LabelEncoder\n",
        "\n",
        "# Initialize LabelEncoder\n",
        "encoder = LabelEncoder()\n",
        "\n",
        "# Encode 'fuel_type', 'selling_type', and 'transmission'\n",
        "data['fuel_type'] = encoder.fit_transform(data['fuel_type'])\n",
        "data['selling_type'] = encoder.fit_transform(data['selling_type'])\n",
        "data['transmission'] = encoder.fit_transform(data['transmission'])\n",
        "\n",
        "# Verify the transformation\n",
        "print(data.head())\n"
      ],
      "metadata": {
        "colab": {
          "base_uri": "https://localhost:8080/"
        },
        "id": "3_6RZNKEz3sb",
        "outputId": "6ae49c7c-5558-405b-a996-1bd805512e3b"
      },
      "execution_count": 14,
      "outputs": [
        {
          "output_type": "stream",
          "name": "stdout",
          "text": [
            "   selling_price  present_price  driven_kms  fuel_type  selling_type  \\\n",
            "0           3.35           5.59       27000          2             0   \n",
            "1           4.75           9.54       43000          1             0   \n",
            "2           7.25           9.85        6900          2             0   \n",
            "3           2.85           4.15        5200          2             0   \n",
            "4           4.60           6.87       42450          1             0   \n",
            "\n",
            "   transmission  owner  car_age  \n",
            "0             1      0       10  \n",
            "1             1      0       11  \n",
            "2             1      0        7  \n",
            "3             1      0       13  \n",
            "4             1      0       10  \n"
          ]
        },
        {
          "output_type": "stream",
          "name": "stderr",
          "text": [
            "<ipython-input-14-dacc676fd7c8>:7: SettingWithCopyWarning: \n",
            "A value is trying to be set on a copy of a slice from a DataFrame.\n",
            "Try using .loc[row_indexer,col_indexer] = value instead\n",
            "\n",
            "See the caveats in the documentation: https://pandas.pydata.org/pandas-docs/stable/user_guide/indexing.html#returning-a-view-versus-a-copy\n",
            "  data['fuel_type'] = encoder.fit_transform(data['fuel_type'])\n",
            "<ipython-input-14-dacc676fd7c8>:8: SettingWithCopyWarning: \n",
            "A value is trying to be set on a copy of a slice from a DataFrame.\n",
            "Try using .loc[row_indexer,col_indexer] = value instead\n",
            "\n",
            "See the caveats in the documentation: https://pandas.pydata.org/pandas-docs/stable/user_guide/indexing.html#returning-a-view-versus-a-copy\n",
            "  data['selling_type'] = encoder.fit_transform(data['selling_type'])\n",
            "<ipython-input-14-dacc676fd7c8>:9: SettingWithCopyWarning: \n",
            "A value is trying to be set on a copy of a slice from a DataFrame.\n",
            "Try using .loc[row_indexer,col_indexer] = value instead\n",
            "\n",
            "See the caveats in the documentation: https://pandas.pydata.org/pandas-docs/stable/user_guide/indexing.html#returning-a-view-versus-a-copy\n",
            "  data['transmission'] = encoder.fit_transform(data['transmission'])\n"
          ]
        }
      ]
    },
    {
      "cell_type": "code",
      "source": [
        "# Define Features (X) and Target (y)\n",
        "X = data.drop('selling_price', axis=1)  # Features\n",
        "y = data['selling_price']  # Target\n"
      ],
      "metadata": {
        "id": "5ZFZ8GQI0cwG"
      },
      "execution_count": 15,
      "outputs": []
    },
    {
      "cell_type": "code",
      "source": [
        "from sklearn.model_selection import train_test_split\n",
        "\n",
        "# Split the data into training and testing sets (80% training, 20% testing)\n",
        "X_train, X_test, y_train, y_test = train_test_split(X, y, test_size=0.2, random_state=42)\n",
        "\n",
        "# Verify the shape of the training and testing sets\n",
        "print(X_train.shape, X_test.shape, y_train.shape, y_test.shape)\n"
      ],
      "metadata": {
        "colab": {
          "base_uri": "https://localhost:8080/"
        },
        "id": "pVFbsleN0isK",
        "outputId": "ad1253f4-6f95-459f-c85f-2a53191f0bc3"
      },
      "execution_count": 16,
      "outputs": [
        {
          "output_type": "stream",
          "name": "stdout",
          "text": [
            "(240, 7) (61, 7) (240,) (61,)\n"
          ]
        }
      ]
    },
    {
      "cell_type": "code",
      "source": [
        "from sklearn.ensemble import RandomForestRegressor\n",
        "\n",
        "# Initialize the Random Forest Regressor model\n",
        "model = RandomForestRegressor(n_estimators=100, random_state=42)\n",
        "\n",
        "# Train the model on the training data\n",
        "model.fit(X_train, y_train)\n",
        "\n",
        "# Make predictions on the testing data\n",
        "y_pred = model.predict(X_test)\n",
        "\n",
        "# Evaluate the model\n",
        "from sklearn.metrics import mean_absolute_error, mean_squared_error, r2_score\n",
        "\n",
        "# Calculate and print evaluation metrics\n",
        "mae = mean_absolute_error(y_test, y_pred)\n",
        "mse = mean_squared_error(y_test, y_pred)\n",
        "rmse = mean_squared_error(y_test, y_pred, squared=False)\n",
        "r2 = r2_score(y_test, y_pred)\n",
        "\n",
        "print(f'Mean Absolute Error: {mae}')\n",
        "print(f'Mean Squared Error: {mse}')\n",
        "print(f'Root Mean Squared Error: {rmse}')\n",
        "print(f'R-squared: {r2}')\n"
      ],
      "metadata": {
        "colab": {
          "base_uri": "https://localhost:8080/"
        },
        "id": "SRF3Cqc80ngP",
        "outputId": "e3814502-07ac-4c9a-ab07-96f921e47c99"
      },
      "execution_count": 17,
      "outputs": [
        {
          "output_type": "stream",
          "name": "stdout",
          "text": [
            "Mean Absolute Error: 0.6389196721311476\n",
            "Mean Squared Error: 0.9382767457377043\n",
            "Root Mean Squared Error: 0.9686468632776881\n",
            "R-squared: 0.9592683769360726\n"
          ]
        },
        {
          "output_type": "stream",
          "name": "stderr",
          "text": [
            "/usr/local/lib/python3.10/dist-packages/sklearn/metrics/_regression.py:492: FutureWarning: 'squared' is deprecated in version 1.4 and will be removed in 1.6. To calculate the root mean squared error, use the function'root_mean_squared_error'.\n",
            "  warnings.warn(\n"
          ]
        }
      ]
    },
    {
      "cell_type": "code",
      "source": [
        "import matplotlib.pyplot as plt\n",
        "\n",
        "# Plot actual vs predicted values\n",
        "plt.figure(figsize=(8,6))\n",
        "plt.scatter(y_test, y_pred, color='blue')\n",
        "plt.plot([y_test.min(), y_test.max()], [y_test.min(), y_test.max()], color='red', linestyle='--', linewidth=2)\n",
        "plt.title('Actual vs Predicted Car Price')\n",
        "plt.xlabel('Actual Price')\n",
        "plt.ylabel('Predicted Price')\n",
        "plt.grid(True)\n",
        "plt.show()\n"
      ],
      "metadata": {
        "colab": {
          "base_uri": "https://localhost:8080/",
          "height": 564
        },
        "id": "p8N1kCCE0t5J",
        "outputId": "5b8e05c4-6a92-4e2a-966e-b0e64ae76b12"
      },
      "execution_count": 18,
      "outputs": [
        {
          "output_type": "display_data",
          "data": {
            "text/plain": [
              "<Figure size 800x600 with 1 Axes>"
            ],
            "image/png": "[encoded data removed]"
          },
          "metadata": {}
        }
      ]
    },
    {
      "cell_type": "code",
      "source": [
        "# Plot feature importances\n",
        "importances = model.feature_importances_\n",
        "feature_names = X.columns\n",
        "\n",
        "# Create a DataFrame for visualization\n",
        "feature_importance_df = pd.DataFrame({'Feature': feature_names, 'Importance': importances})\n",
        "feature_importance_df = feature_importance_df.sort_values(by='Importance', ascending=False)\n",
        "\n",
        "# Plot the feature importances\n",
        "plt.figure(figsize=(10, 6))\n",
        "plt.barh(feature_importance_df['Feature'], feature_importance_df['Importance'], color='skyblue')\n",
        "plt.title('Feature Importance')\n",
        "plt.xlabel('Importance')\n",
        "plt.ylabel('Feature')\n",
        "plt.grid(True)\n",
        "plt.show()\n"
      ],
      "metadata": {
        "colab": {
          "base_uri": "https://localhost:8080/",
          "height": 564
        },
        "id": "uSwLeSt801aY",
        "outputId": "758bd873-4d0b-483e-8ab2-bef39f84704c"
      },
      "execution_count": 19,
      "outputs": [
        {
          "output_type": "display_data",
          "data": {
            "text/plain": [
              "<Figure size 1000x600 with 1 Axes>"
            ],
            "image/png": "[encoded data removed]"
          },
          "metadata": {}
        }
      ]
    },
    {
      "cell_type": "code",
      "source": [
        "import joblib\n",
        "\n",
        "# Save the model\n",
        "joblib.dump(model, 'car_price_model.pkl')\n"
      ],
      "metadata": {
        "colab": {
          "base_uri": "https://localhost:8080/"
        },
        "id": "7UhTRcsK09LT",
        "outputId": "5f042588-f017-472f-b28a-44f60c354936"
      },
      "execution_count": 20,
      "outputs": [
        {
          "output_type": "execute_result",
          "data": {
            "text/plain": [
              "['car_price_model.pkl']"
            ]
          },
          "metadata": {},
          "execution_count": 20
        }
      ]
    },
    {
      "cell_type": "code",
      "source": [
        "# Load the saved model\n",
        "model = joblib.load('car_price_model.pkl')\n",
        "\n",
        "# Predict for new data\n",
        "new_data = [[10000, 5.0, 40000, 1, 1, 1, 0]]  # Example new car data\n",
        "new_prediction = model.predict(new_data)\n",
        "print(f\"Predicted Car Price: {new_prediction[0]:.2f}\")\n"
      ],
      "metadata": {
        "colab": {
          "base_uri": "https://localhost:8080/"
        },
        "id": "sIoke_Mn1GCR",
        "outputId": "29ce0456-03a4-4083-8eab-3b3d16936422"
      },
      "execution_count": 21,
      "outputs": [
        {
          "output_type": "stream",
          "name": "stdout",
          "text": [
            "Predicted Car Price: 30.94\n"
          ]
        },
        {
          "output_type": "stream",
          "name": "stderr",
          "text": [
            "/usr/local/lib/python3.10/dist-packages/sklearn/base.py:493: UserWarning: X does not have valid feature names, but RandomForestRegressor was fitted with feature names\n",
            "  warnings.warn(\n"
          ]
        }
      ]
    },
    {
      "cell_type": "code",
      "source": [],
      "metadata": {
        "id": "54Kuru8d1Ksb"
      },
      "execution_count": null,
      "outputs": []
    }
  ]
}